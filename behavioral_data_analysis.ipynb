{
 "cells": [
  {
   "cell_type": "markdown",
   "metadata": {},
   "source": [
    "## Participants / Behavioral Data Analysis"
   ]
  },
  {
   "cell_type": "markdown",
   "metadata": {},
   "source": [
    "### Import"
   ]
  },
  {
   "cell_type": "code",
   "execution_count": 41,
   "metadata": {},
   "outputs": [],
   "source": [
    "import itertools\n",
    "import numpy as np\n",
    "import pandas as pd\n",
    "import matplotlib.pyplot as plt\n",
    "import seaborn as sns\n",
    "\n",
    "from sklearn.decomposition import PCA\n",
    "from sklearn.linear_model import LinearRegression\n",
    "from sklearn.ensemble import RandomForestRegressor\n",
    "from sklearn.cluster import KMeans"
   ]
  },
  {
   "cell_type": "markdown",
   "metadata": {},
   "source": [
    "### Data Load"
   ]
  },
  {
   "cell_type": "code",
   "execution_count": 27,
   "metadata": {},
   "outputs": [],
   "source": [
    "participants_data = pd.read_csv(\"./data/participants.tsv\" , sep='\\t')\n",
    "participants_data_df = pd.DataFrame(participants_data)\n",
    "\n",
    "participants_info = ['participant_id', 'age', 'sex', 'task_order', 'task_rule', 'AoA']\n",
    "\n",
    "Language_RT = [\"RT_L1S\",\"RT_L1NS\",\"RT_L2S\",\"RT_L2NS\"]\n",
    "Language_ER = [\"ER_L1S\",\"ER_L1NS\",\"ER_L2S\",\"ER_L2NS\"]\n",
    "\n",
    "chinese_skills = [\"Chinese_writing\", \"Chinese_listening\", \"Chinese_speaking\", \"Chinese_reading\"]\n",
    "english_skills = [\"English_writing\", \"English_listening\", \"English_speaking\", \"English_reading\"]\n",
    "raven_score = [\"raven_score\"]\n",
    "cet_4_score = [\"CET_4_score\"]"
   ]
  },
  {
   "cell_type": "code",
   "execution_count": 29,
   "metadata": {},
   "outputs": [],
   "source": [
    "cor_columns = Language_RT + Language_ER + chinese_skills + english_skills + raven_score + cet_4_score + [\"AoA\"]\n",
    "correlation_matrix = participants_data[cor_columns].corr()"
   ]
  },
  {
   "cell_type": "code",
   "execution_count": 30,
   "metadata": {},
   "outputs": [
    {
     "name": "stdout",
     "output_type": "stream",
     "text": [
      "Chinese Skill Correlations: {'Chinese_writing & Chinese_listening': 0.5369323700415589, 'Chinese_writing & Chinese_speaking': 0.7195877994803657, 'Chinese_writing & Chinese_reading': 0.709667557920316, 'Chinese_listening & Chinese_speaking': 0.6017857599917049, 'Chinese_listening & Chinese_reading': 0.6662341313355201, 'Chinese_speaking & Chinese_reading': 0.6292861708254254}\n",
      "English Skill Correlations: {'English_writing & English_listening': 0.5324854562438731, 'English_writing & English_speaking': 0.7007945245035324, 'English_writing & English_reading': 0.6179659680475528, 'English_listening & English_speaking': 0.7771198068341004, 'English_listening & English_reading': 0.43228624775876157, 'English_speaking & English_reading': 0.3864251667459408}\n",
      "Raven Score & English Skills Correlations: {'raven_score & English_writing': 0.15650960709089898, 'raven_score & English_listening': 0.1244779961150536, 'raven_score & English_speaking': 0.06814679023872558, 'raven_score & English_reading': 0.19876066898567865}\n",
      "CET 4 Score Correlations: {'CET_4_score & English_writing': 0.35520763917166803, 'CET_4_score & English_listening': 0.3841186921818819, 'CET_4_score & English_speaking': 0.2972030228265447, 'CET_4_score & English_reading': 0.13890007094389703}\n",
      "Raven Score & CET 4 Score Correlation: {'raven_score & CET_4_score': 0.233705913960944}\n",
      "AoA & English skills Correlation: {'AoA & English_writing': -0.1444502987593527, 'AoA & English_listening': -0.15784105846389884, 'AoA & English_speaking': -0.030329450569710547, 'AoA & English_reading': -0.15499353085527676, 'AoA & raven_score': -0.35462051263438893, 'AoA & CET_4_score': -0.23428551589392765}\n"
     ]
    }
   ],
   "source": [
    "# 1. Chinese skills (4 choose 2)\n",
    "chinese_combinations = list(itertools.combinations(chinese_skills, 2))\n",
    "chinese_correlations = {f\"{x} & {y}\": correlation_matrix.loc[x, y] for x, y in chinese_combinations}\n",
    "\n",
    "# 2. English skills (4 choose 2)\n",
    "english_combinations = list(itertools.combinations(english_skills, 2))\n",
    "english_correlations = {f\"{x} & {y}\": correlation_matrix.loc[x, y] for x, y in english_combinations}\n",
    "\n",
    "# 3. Raven score vs English skills\n",
    "raven_english_correlations = {f\"raven_score & {skill}\": correlation_matrix.loc[\"raven_score\", skill] for skill in english_skills}\n",
    "\n",
    "# 4. CET 4 score correlations with English skills\n",
    "cet_4_correlations = {f\"CET_4_score & {skill}\" : correlation_matrix.loc[\"CET_4_score\", skill] for skill in english_skills}\n",
    "\n",
    "# 5. Raven score & CET 4 score\n",
    "raven_cet4_correlation = {\"raven_score & CET_4_score\": correlation_matrix.loc[\"raven_score\", \"CET_4_score\"]}\n",
    "\n",
    "# 6. Age of Acquisition and other english related variables\n",
    "AoA_correlations = {f\"AoA & {skill}\" : correlation_matrix.loc[\"AoA\", skill] for skill in english_skills + raven_score + cet_4_score}\n",
    "\n",
    "# Print results\n",
    "print(\"Chinese Skill Correlations:\", chinese_correlations)\n",
    "print(\"English Skill Correlations:\", english_correlations)\n",
    "print(\"Raven Score & English Skills Correlations:\", raven_english_correlations)\n",
    "print(\"CET 4 Score Correlations:\", cet_4_correlations)\n",
    "print(\"Raven Score & CET 4 Score Correlation:\", raven_cet4_correlation)\n",
    "print(\"AoA & English skills Correlation:\", AoA_correlations)"
   ]
  },
  {
   "cell_type": "code",
   "execution_count": 33,
   "metadata": {},
   "outputs": [
    {
     "name": "stdout",
     "output_type": "stream",
     "text": [
      "RTL1S_Chinese_correlation: {'RT_L1S & Chinese_writing': -0.17181157875905817, 'RT_L1S & Chinese_listening': -0.13034266083903212, 'RT_L1S & Chinese_speaking': -0.19216220392790564, 'RT_L1S & Chinese_reading': -0.049387453437041456}\n",
      "RTL1NS_Chinese_correlation:  {'RT_L1NS & Chinese_writing': -0.14431948221685217, 'RT_L1NS & Chinese_listening': -0.10066014422042956, 'RT_L1NS & Chinese_speaking': -0.13552622556975719, 'RT_L1NS & Chinese_reading': -0.05409748262747915}\n",
      "RTL2S_English_correlation: {'RT_L2S & English_writing': -0.15608745106689872, 'RT_L2S & English_listening': -0.26285325959694766, 'RT_L2S & English_speaking': -0.249225000279765, 'RT_L2S & English_reading': -0.07517967683065574}\n",
      "RTL2NS_English_correlation: {'RT_L2NS & English_writing': -0.13785607761363033, 'RT_L2NS & English_listening': -0.22679407408979357, 'RT_L2NS & English_speaking': -0.23930748130690666, 'RT_L2NS & English_reading': -0.0905329915511562}\n",
      "AoA_RT_correlations: {'AoA & RT_L1S': -0.07303418491468348, 'AoA & RT_L1NS': -0.10704719439532716, 'AoA & RT_L2S': 0.04795222797959255, 'AoA & RT_L2NS': 0.04302817500087371}\n",
      "AoA_ER_correlations: {'AoA & ER_L1S': -0.0810334007276313, 'AoA & ER_L1NS': -0.09265109049271229, 'AoA & ER_L2S': 0.13429345842206578, 'AoA & ER_L2NS': 0.12048926343657099}\n",
      "raven_RT_correlations: {'raven_score & RT_L1S': -0.10192948032642571, 'raven_score & RT_L1NS': -0.1627018508981041, 'raven_score & RT_L2S': -0.21882178716367187, 'raven_score & RT_L2NS': -0.21413055014757756}\n",
      "raven_ER_correlations: {'raven_score & ER_L1S': -0.027472844891422755, 'raven_score & ER_L1NS': -0.04825089641629403, 'raven_score & ER_L2S': -0.2367312466937776, 'raven_score & ER_L2NS': -0.23652282254830348}\n",
      "cet_4_RT_correlations: {'CET_4_score & RT_L1S': 0.02146256794702048, 'CET_4_score & RT_L1NS': 0.031085003279216688, 'CET_4_score & RT_L2S': -0.053926295229138145, 'CET_4_score & RT_L2NS': -0.07319903667206928}\n",
      "cet_4_ER_correlations: {'CET_4_score & ER_L1S': -0.09920154371578252, 'CET_4_score & ER_L1NS': -0.10498877572452256, 'CET_4_score & ER_L2S': -0.24290970386183677, 'CET_4_score & ER_L2NS': -0.272698476085984}\n",
      "\n",
      "\n",
      "RTL2S_Chinese_correlation: {'RT_L2S & Chinese_writing': -0.08285985363397311, 'RT_L2S & Chinese_listening': -0.16107005912224834, 'RT_L2S & Chinese_speaking': -0.1274372789939152, 'RT_L2S & Chinese_reading': -0.01638871422407807}\n",
      "RTL2NS_Chinese_correlation: {'RT_L2NS & Chinese_writing': -0.1426432839480672, 'RT_L2NS & Chinese_listening': -0.11022121581455886, 'RT_L2NS & Chinese_speaking': -0.168735213894904, 'RT_L2NS & Chinese_reading': 0.012891988927025026}\n",
      "RTL1S_English_correlation: {'RT_L1S & English_writing': -0.04257865544461506, 'RT_L1S & English_listening': -0.1535102152660001, 'RT_L1S & English_speaking': -0.10530271880593915, 'RT_L1S & English_reading': -0.040106760514328266}\n",
      "RTL1NS_English_correlation: {'RT_L1NS & English_writing': -0.03797822730318943, 'RT_L1NS & English_listening': -0.1187711138081281, 'RT_L1NS & English_speaking': -0.10982780567515625, 'RT_L1NS & English_reading': 0.07368748032700138}\n"
     ]
    }
   ],
   "source": [
    "#reaction time L1 & Chinese skills\n",
    "RTL1S_Chinese_correlation = {f\"RT_L1S & {c}\" : correlation_matrix.loc[\"RT_L1S\", c] for c in chinese_skills}\n",
    "RTL1NS_Chinese_correlation = {f\"RT_L1NS & {c}\" : correlation_matrix.loc[\"RT_L1NS\", c] for c in chinese_skills}\n",
    "\n",
    "RTL2S_Chinese_correlation = {f\"RT_L2S & {c}\" : correlation_matrix.loc[\"RT_L2S\", c] for c in chinese_skills}\n",
    "RTL2NS_Chinese_correlation = {f\"RT_L2NS & {c}\" : correlation_matrix.loc[\"RT_L2NS\", c] for c in chinese_skills}\n",
    "\n",
    "#reaction time L2 & English skills\n",
    "RTL2S_English_correlation = {f\"RT_L2S & {e}\" : correlation_matrix.loc[\"RT_L2S\", e] for e in english_skills}\n",
    "RTL2NS_English_correlation = {f\"RT_L2NS & {e}\" : correlation_matrix.loc[\"RT_L2NS\", e] for e in english_skills}\n",
    "\n",
    "RTL1S_English_correlation = {f\"RT_L1S & {e}\" : correlation_matrix.loc[\"RT_L1S\", e] for e in english_skills}\n",
    "RTL1NS_English_correlation = {f\"RT_L1NS & {e}\" : correlation_matrix.loc[\"RT_L1NS\", e] for e in english_skills}\n",
    "\n",
    "#reaction time L2 & AoA\n",
    "AoA_RT_correlations = {f\"AoA & {rt}\" : correlation_matrix.loc[\"AoA\", rt] for rt in Language_RT}\n",
    "AoA_ER_correlations = {f\"AoA & {er}\" : correlation_matrix.loc[\"AoA\", er] for er in Language_ER}\n",
    "\n",
    "#reaction time L2 & raven score\n",
    "raven_RT_correlations = {f\"raven_score & {rt}\" : correlation_matrix.loc[\"raven_score\", rt] for rt in Language_RT}\n",
    "raven_ER_correlations = {f\"raven_score & {er}\" : correlation_matrix.loc[\"raven_score\", er] for er in Language_ER}\n",
    "\n",
    "#reaction time L2 & cet 4 score\n",
    "cet_4_RT_correlations = {f\"CET_4_score & {rt}\" : correlation_matrix.loc[\"CET_4_score\", rt] for rt in Language_RT}\n",
    "cet_4_ER_correlations = {f\"CET_4_score & {er}\" : correlation_matrix.loc[\"CET_4_score\", er] for er in Language_ER}\n",
    "\n",
    "\n",
    "print(\"RTL1S_Chinese_correlation:\", RTL1S_Chinese_correlation)\n",
    "print(\"RTL1NS_Chinese_correlation: \",RTL1NS_Chinese_correlation)\n",
    "print(\"RTL2S_English_correlation:\", RTL2S_English_correlation)\n",
    "print(\"RTL2NS_English_correlation:\",RTL2NS_English_correlation)\n",
    "print(\"AoA_RT_correlations:\", AoA_RT_correlations)\n",
    "print(\"AoA_ER_correlations:\", AoA_ER_correlations)\n",
    "print(\"raven_RT_correlations:\", raven_RT_correlations)\n",
    "print(\"raven_ER_correlations:\", raven_ER_correlations)\n",
    "print(\"cet_4_RT_correlations:\", cet_4_RT_correlations)\n",
    "print(\"cet_4_ER_correlations:\", cet_4_ER_correlations)\n",
    "print()\n",
    "print()\n",
    "print(\"RTL2S_Chinese_correlation:\", RTL2S_Chinese_correlation)\n",
    "print(\"RTL2NS_Chinese_correlation:\",RTL2NS_Chinese_correlation)\n",
    "print(\"RTL1S_English_correlation:\",RTL1S_English_correlation)\n",
    "print(\"RTL1NS_English_correlation:\", RTL1NS_English_correlation)"
   ]
  }
 ],
 "metadata": {
  "kernelspec": {
   "display_name": "Python 3",
   "language": "python",
   "name": "python3"
  },
  "language_info": {
   "codemirror_mode": {
    "name": "ipython",
    "version": 3
   },
   "file_extension": ".py",
   "mimetype": "text/x-python",
   "name": "python",
   "nbconvert_exporter": "python",
   "pygments_lexer": "ipython3",
   "version": "3.9.6"
  }
 },
 "nbformat": 4,
 "nbformat_minor": 2
}
